{
 "cells": [
  {
   "cell_type": "code",
   "execution_count": 1,
   "metadata": {
    "ExecuteTime": {
     "end_time": "2020-03-31T12:29:07.684158Z",
     "start_time": "2020-03-31T12:29:07.682515Z"
    }
   },
   "outputs": [],
   "source": [
    "# default_exp models"
   ]
  },
  {
   "cell_type": "markdown",
   "metadata": {},
   "source": [
    "# Import"
   ]
  },
  {
   "cell_type": "code",
   "execution_count": 2,
   "metadata": {
    "ExecuteTime": {
     "end_time": "2020-03-31T12:29:08.600779Z",
     "start_time": "2020-03-31T12:29:07.685575Z"
    }
   },
   "outputs": [],
   "source": [
    "#export\n",
    "from functools import partial\n",
    "from pathlib import Path\n",
    "\n",
    "import matplotlib.pyplot as plt\n",
    "import numpy as np\n",
    "import torch\n",
    "import torch.nn as nn\n",
    "import torchvision.models as models\n",
    "import torchvision.transforms as transforms\n",
    "import torchvision.transforms.functional as F\n",
    "from IPython.core.debugger import set_trace\n",
    "from PIL import Image\n",
    "\n",
    "from style_transfer.data import *"
   ]
  },
  {
   "cell_type": "markdown",
   "metadata": {},
   "source": [
    "# Config"
   ]
  },
  {
   "cell_type": "code",
   "execution_count": 3,
   "metadata": {
    "ExecuteTime": {
     "end_time": "2020-03-31T12:29:08.604789Z",
     "start_time": "2020-03-31T12:29:08.602305Z"
    }
   },
   "outputs": [],
   "source": [
    "dir_data = Path('data')\n",
    "dir_cont = dir_data/'content'\n",
    "dir_styl = dir_data/'style'"
   ]
  },
  {
   "cell_type": "markdown",
   "metadata": {},
   "source": [
    "# Utility"
   ]
  },
  {
   "cell_type": "code",
   "execution_count": 4,
   "metadata": {
    "ExecuteTime": {
     "end_time": "2020-03-31T12:29:08.608960Z",
     "start_time": "2020-03-31T12:29:08.606312Z"
    }
   },
   "outputs": [],
   "source": [
    "#export\n",
    "def img2tensor(img, normalize=True, cuda=True, batchify=True):\n",
    "    img = F.to_tensor(img)\n",
    "    if normalize: img = F.normalize(img, mean=[0.485, 0.456, 0.406], std=[0.229, 0.224, 0.225])\n",
    "    if cuda:      img = img.cuda()\n",
    "    if batchify:  img = img[None]  \n",
    "    return img"
   ]
  },
  {
   "cell_type": "code",
   "execution_count": 5,
   "metadata": {
    "ExecuteTime": {
     "end_time": "2020-03-31T12:29:08.612205Z",
     "start_time": "2020-03-31T12:29:08.610178Z"
    }
   },
   "outputs": [],
   "source": [
    "#export\n",
    "def leaf_modules(model): # TODO: does pytorch have a built-in for this?\n",
    "    for m in model.modules():\n",
    "        if len(list(m.children())) == 0:\n",
    "            yield m"
   ]
  },
  {
   "cell_type": "code",
   "execution_count": 6,
   "metadata": {
    "ExecuteTime": {
     "end_time": "2020-03-31T12:29:08.615742Z",
     "start_time": "2020-03-31T12:29:08.613293Z"
    }
   },
   "outputs": [],
   "source": [
    "#export\n",
    "def gram_matrix(x):\n",
    "    n,c,h,w = x.shape\n",
    "    x = x.view(n, c, -1)\n",
    "    return (x @ x.transpose(1,2))/(c*h*w)"
   ]
  },
  {
   "cell_type": "code",
   "execution_count": 7,
   "metadata": {
    "ExecuteTime": {
     "end_time": "2020-03-31T12:29:08.620016Z",
     "start_time": "2020-03-31T12:29:08.617574Z"
    }
   },
   "outputs": [],
   "source": [
    "#export\n",
    "def get_in_channels(module):\n",
    "    # Gets in_channels of first conv layer\n",
    "    in_channels = None\n",
    "    for m in leaf_modules(module):\n",
    "        if isinstance(m, nn.modules.conv._ConvNd):\n",
    "            in_channels = m.in_channels\n",
    "            break\n",
    "    return in_channels"
   ]
  },
  {
   "cell_type": "code",
   "execution_count": 8,
   "metadata": {
    "ExecuteTime": {
     "end_time": "2020-03-31T12:29:08.623816Z",
     "start_time": "2020-03-31T12:29:08.621588Z"
    }
   },
   "outputs": [],
   "source": [
    "#export\n",
    "def get_out_channels(module):\n",
    "    # Gets out_channels of last conv layer\n",
    "    out_channels = None\n",
    "    for m in leaf_modules(module):\n",
    "        if isinstance(m, nn.modules.conv._ConvNd):\n",
    "            out_channels = m.out_channels\n",
    "    return out_channels"
   ]
  },
  {
   "cell_type": "code",
   "execution_count": 9,
   "metadata": {
    "ExecuteTime": {
     "end_time": "2020-03-31T12:29:08.628177Z",
     "start_time": "2020-03-31T12:29:08.625010Z"
    }
   },
   "outputs": [],
   "source": [
    "#export \n",
    "class reflection_conv(nn.Module):\n",
    "    def __init__(self, ic, oc, ks, s, b=True):\n",
    "        super().__init__()        \n",
    "        self.pad = nn.ReflectionPad2d((ks-1)//2)\n",
    "        self.conv = nn.Conv2d(ic, oc, ks, s, bias=b)\n",
    "        \n",
    "    def forward(self, X):\n",
    "        X = self.pad(X)\n",
    "        return self.conv(X)"
   ]
  },
  {
   "cell_type": "code",
   "execution_count": 10,
   "metadata": {
    "ExecuteTime": {
     "end_time": "2020-03-31T12:29:08.631634Z",
     "start_time": "2020-03-31T12:29:08.629343Z"
    }
   },
   "outputs": [],
   "source": [
    "#export\n",
    "def conv_layer(ic, oc, ks, s):\n",
    "    return nn.Sequential(\n",
    "        reflection_conv(ic, oc, ks, s, b=False), # No bias needed since norm layer\n",
    "        nn.GroupNorm(1, oc),\n",
    "        nn.ReLU(inplace=True)\n",
    "    )"
   ]
  },
  {
   "cell_type": "code",
   "execution_count": 11,
   "metadata": {
    "ExecuteTime": {
     "end_time": "2020-03-31T12:29:08.635537Z",
     "start_time": "2020-03-31T12:29:08.632854Z"
    }
   },
   "outputs": [],
   "source": [
    "#export\n",
    "class res_block(nn.Module):\n",
    "    def __init__(self, c, ks):\n",
    "        super().__init__()\n",
    "        self.conv1 = conv_layer(c, c, ks, 1)\n",
    "        self.conv2 = conv_layer(c, c, ks, 1)\n",
    "        \n",
    "    def forward(self, X):\n",
    "        return self.conv2(self.conv1(X)) + X"
   ]
  },
  {
   "cell_type": "code",
   "execution_count": 12,
   "metadata": {
    "ExecuteTime": {
     "end_time": "2020-03-31T12:29:08.639132Z",
     "start_time": "2020-03-31T12:29:08.636669Z"
    }
   },
   "outputs": [],
   "source": [
    "#export\n",
    "class Halve(nn.Module):\n",
    "    def __init__(self): \n",
    "        super().__init__()\n",
    "        \n",
    "    def forward(self, X): \n",
    "        return nn.functional.interpolate(X, scale_factor=0.5, mode='bilinear', align_corners=True)"
   ]
  },
  {
   "cell_type": "code",
   "execution_count": 13,
   "metadata": {
    "ExecuteTime": {
     "end_time": "2020-03-31T12:29:08.642632Z",
     "start_time": "2020-03-31T12:29:08.640334Z"
    }
   },
   "outputs": [],
   "source": [
    "#export\n",
    "class Double(nn.Module):\n",
    "    def __init__(self): \n",
    "        super().__init__()\n",
    "        \n",
    "    def forward(self, X): \n",
    "        return nn.functional.interpolate(X, scale_factor=2, mode='bilinear', align_corners=True)"
   ]
  },
  {
   "cell_type": "code",
   "execution_count": 14,
   "metadata": {
    "ExecuteTime": {
     "end_time": "2020-03-31T12:29:08.646973Z",
     "start_time": "2020-03-31T12:29:08.643835Z"
    }
   },
   "outputs": [],
   "source": [
    "#export\n",
    "def get_encoder(ic, layout_e):\n",
    "    prev_oc = ic\n",
    "    encoder = []\n",
    "    for idx_l, layout_l in enumerate(layout_e):\n",
    "        c, ks, num_blocks = layout_l       \n",
    "        layer = [conv_layer(prev_oc, c, 3, 1)]\n",
    "        for idx_b in range(num_blocks):            \n",
    "            layer.append(res_block(c, ks))\n",
    "        encoder.append(nn.Sequential(*layer))        \n",
    "        if idx_l < len(layout_e)-1:\n",
    "            encoder.append(Halve())\n",
    "        prev_oc = c\n",
    "    return nn.Sequential(*encoder)"
   ]
  },
  {
   "cell_type": "markdown",
   "metadata": {
    "ExecuteTime": {
     "end_time": "2020-03-17T19:03:14.884940Z",
     "start_time": "2020-03-17T19:03:14.877054Z"
    }
   },
   "source": [
    "# Feature loss"
   ]
  },
  {
   "cell_type": "code",
   "execution_count": 15,
   "metadata": {
    "ExecuteTime": {
     "end_time": "2020-03-31T12:29:08.658020Z",
     "start_time": "2020-03-31T12:29:08.648289Z"
    }
   },
   "outputs": [],
   "source": [
    "#export\n",
    "class FeatureLoss():\n",
    "    def __init__(self, encoder, img_styl, sz, idx_styl, idx_cont, w_styl, w_cont):\n",
    "        # Set up encoder\n",
    "        encoder = encoder.cuda()\n",
    "        encoder.eval()\n",
    "        for p in encoder.parameters(): p.requires_grad = False\n",
    "        self.encoder = encoder\n",
    "\n",
    "        # Use hooks + dummy pass to get feature modules (modules right before size change)\n",
    "        def _hook(module, x, y): \n",
    "            if x[0].shape[2:] != y.shape[2:]:\n",
    "                module.size_changed = True                \n",
    "        hooks = [m.register_forward_hook(_hook) for m in leaf_modules(encoder)]\n",
    "        encoder(torch.zeros(1, 3, sz, sz, device='cuda'))        \n",
    "        m_feats, m_prev = [], None\n",
    "        for m in leaf_modules(encoder):\n",
    "            if hasattr(m, 'size_changed'):\n",
    "                m_feats.append(m_prev)\n",
    "            m_prev = m\n",
    "        for h in hooks: h.remove()\n",
    "        self.m_feats = m_feats\n",
    "            \n",
    "        # Hook modules for style and content loss\n",
    "        def _hook(module, x, y): module.x = x[0]\n",
    "        self.hooks = [self.m_feats[idx].register_forward_hook(_hook) for idx in set(idx_styl+idx_cont)]\n",
    "        self.idx_styl, self.idx_cont = idx_styl, idx_cont\n",
    "                            \n",
    "        # Precompute style image gram matrix; these are constant\n",
    "        self.encoder(img2tensor(img_styl))\n",
    "        self.gms_styl = [gram_matrix(feat) for feat in self._get_styl_feats()]\n",
    "        \n",
    "        # Store weights\n",
    "        self.w_styl, self.w_cont = w_styl, w_cont\n",
    "        \n",
    "    def _get_styl_feats(self):\n",
    "        return [self.m_feats[idx].x for idx in self.idx_styl]\n",
    "\n",
    "    def _get_cont_feats(self):\n",
    "        return [self.m_feats[idx].x for idx in self.idx_cont]\n",
    "\n",
    "    def __call__(self, y_hat, y):        \n",
    "        # content target\n",
    "        self.encoder(y)\n",
    "        feats_cc = self._get_cont_feats()\n",
    "        \n",
    "        # network output - this should learn to normalize to imagenet stats?\n",
    "        self.encoder(y_hat)\n",
    "        feats_hs = self._get_styl_feats()\n",
    "        feats_hc = self._get_cont_feats()\n",
    "                            \n",
    "        # Get losses\n",
    "        loss = nn.functional.mse_loss        \n",
    "        ls_s = [self.w_styl[idx]*loss(self.gms_styl[idx].repeat(feat_hs.shape[0],1,1), gram_matrix(feat_hs)) \n",
    "                for idx, feat_hs in enumerate(feats_hs)]\n",
    "        ls_c = [self.w_cont[idx]*loss(feat_cc, feat_hc) \n",
    "                for idx, (feat_cc, feat_hc) in enumerate(zip(feats_cc, feats_hc))]\n",
    "        l_s, l_c = map(sum, [ls_s, ls_c])\n",
    "        l = l_s + l_c\n",
    "        \n",
    "        # Metrics\n",
    "        metrics = {}\n",
    "        for name_metric in self.get_metric_names(): \n",
    "            metrics[name_metric] = eval(name_metric + '.item()')\n",
    "\n",
    "        return l, metrics\n",
    "    \n",
    "    def get_metric_names(self):\n",
    "        return ['l'] + \\\n",
    "               [f'ls_s[{i}]' for i in range(len(self.idx_styl))] + \\\n",
    "               [f'ls_c[{i}]' for i in range(len(self.idx_cont))]\n",
    "    \n",
    "    def __del__(self): \n",
    "        for h in self.hooks: h.remove()"
   ]
  },
  {
   "cell_type": "markdown",
   "metadata": {
    "ExecuteTime": {
     "end_time": "2020-03-15T00:53:51.442869Z",
     "start_time": "2020-03-15T00:53:51.440023Z"
    }
   },
   "source": [
    "# Model"
   ]
  },
  {
   "cell_type": "code",
   "execution_count": 16,
   "metadata": {
    "ExecuteTime": {
     "end_time": "2020-03-31T12:29:08.663964Z",
     "start_time": "2020-03-31T12:29:08.659232Z"
    }
   },
   "outputs": [],
   "source": [
    "#export\n",
    "class AutoEncoder(nn.Module):\n",
    "    def __init__(self, encoder):\n",
    "        super().__init__()\n",
    "        self.encoder = encoder\n",
    "        self.decoder = self._get_decoder(encoder)\n",
    "        \n",
    "    def _get_decoder(self, encoder):\n",
    "        decoder = []\n",
    "        for idx, m in enumerate(reversed(encoder)):\n",
    "            layer = []\n",
    "            if isinstance(m, Halve):\n",
    "                layer.append(Double())\n",
    "            else:\n",
    "                ic, oc = get_out_channels(m), get_in_channels(m)\n",
    "                layer.append(res_block(ic, 3))\n",
    "                if idx < len(encoder)-1:\n",
    "                    layer.append(conv_layer(ic, oc, 3, 1))\n",
    "                else:\n",
    "                    # Last layer; dont do relu, norm, or upsampling\n",
    "                    layer.append(reflection_conv(ic, oc, 3, 1))\n",
    "            decoder.append(nn.Sequential(*layer))\n",
    "        return nn.Sequential(*decoder)\n",
    "\n",
    "    def forward(self, X):\n",
    "        return self.decoder(self.encoder(X))"
   ]
  },
  {
   "cell_type": "markdown",
   "metadata": {
    "ExecuteTime": {
     "end_time": "2020-03-18T21:19:28.936140Z",
     "start_time": "2020-03-18T21:19:28.932040Z"
    }
   },
   "source": [
    "# Test"
   ]
  },
  {
   "cell_type": "code",
   "execution_count": 17,
   "metadata": {
    "ExecuteTime": {
     "end_time": "2020-03-31T12:29:08.667560Z",
     "start_time": "2020-03-31T12:29:08.665512Z"
    }
   },
   "outputs": [],
   "source": [
    "sz = 256"
   ]
  },
  {
   "cell_type": "code",
   "execution_count": 18,
   "metadata": {
    "ExecuteTime": {
     "end_time": "2020-03-31T12:29:11.274211Z",
     "start_time": "2020-03-31T12:29:08.669019Z"
    }
   },
   "outputs": [],
   "source": [
    "encoder = models.vgg16(pretrained=True).features"
   ]
  },
  {
   "cell_type": "code",
   "execution_count": 19,
   "metadata": {
    "ExecuteTime": {
     "end_time": "2020-03-31T12:29:12.907630Z",
     "start_time": "2020-03-31T12:29:11.275385Z"
    }
   },
   "outputs": [],
   "source": [
    "loss = FeatureLoss(encoder, \n",
    "                   Image.open(dir_styl/'hiroshige_winter.jpg'), \n",
    "                   sz, \n",
    "                   [0,1,2,3], \n",
    "                   [1],\n",
    "                   [1e10, 1e10, 1e10, 1e10],\n",
    "                   [1e5])"
   ]
  },
  {
   "cell_type": "code",
   "execution_count": 20,
   "metadata": {
    "ExecuteTime": {
     "end_time": "2020-03-31T12:29:12.925819Z",
     "start_time": "2020-03-31T12:29:12.908770Z"
    },
    "scrolled": true
   },
   "outputs": [],
   "source": [
    "in_channels = 3\n",
    "\n",
    "# [channels, kernel_size, num_res_blocks]\n",
    "layout_encoder = [[  32, 3, 1],\n",
    "                  [  64, 3, 1],\n",
    "                  [ 128, 3, 1],\n",
    "                  [ 256, 3, 2]]\n",
    "\n",
    "encoder = get_encoder(in_channels, layout_encoder)"
   ]
  },
  {
   "cell_type": "code",
   "execution_count": 21,
   "metadata": {
    "ExecuteTime": {
     "end_time": "2020-03-31T12:29:12.947220Z",
     "start_time": "2020-03-31T12:29:12.926958Z"
    },
    "scrolled": false
   },
   "outputs": [
    {
     "data": {
      "text/plain": [
       "AutoEncoder(\n",
       "  (encoder): Sequential(\n",
       "    (0): Sequential(\n",
       "      (0): Sequential(\n",
       "        (0): reflection_conv(\n",
       "          (pad): ReflectionPad2d((1, 1, 1, 1))\n",
       "          (conv): Conv2d(3, 32, kernel_size=(3, 3), stride=(1, 1), bias=False)\n",
       "        )\n",
       "        (1): GroupNorm(1, 32, eps=1e-05, affine=True)\n",
       "        (2): ReLU(inplace=True)\n",
       "      )\n",
       "      (1): res_block(\n",
       "        (conv1): Sequential(\n",
       "          (0): reflection_conv(\n",
       "            (pad): ReflectionPad2d((1, 1, 1, 1))\n",
       "            (conv): Conv2d(32, 32, kernel_size=(3, 3), stride=(1, 1), bias=False)\n",
       "          )\n",
       "          (1): GroupNorm(1, 32, eps=1e-05, affine=True)\n",
       "          (2): ReLU(inplace=True)\n",
       "        )\n",
       "        (conv2): Sequential(\n",
       "          (0): reflection_conv(\n",
       "            (pad): ReflectionPad2d((1, 1, 1, 1))\n",
       "            (conv): Conv2d(32, 32, kernel_size=(3, 3), stride=(1, 1), bias=False)\n",
       "          )\n",
       "          (1): GroupNorm(1, 32, eps=1e-05, affine=True)\n",
       "          (2): ReLU(inplace=True)\n",
       "        )\n",
       "      )\n",
       "    )\n",
       "    (1): Halve()\n",
       "    (2): Sequential(\n",
       "      (0): Sequential(\n",
       "        (0): reflection_conv(\n",
       "          (pad): ReflectionPad2d((1, 1, 1, 1))\n",
       "          (conv): Conv2d(32, 64, kernel_size=(3, 3), stride=(1, 1), bias=False)\n",
       "        )\n",
       "        (1): GroupNorm(1, 64, eps=1e-05, affine=True)\n",
       "        (2): ReLU(inplace=True)\n",
       "      )\n",
       "      (1): res_block(\n",
       "        (conv1): Sequential(\n",
       "          (0): reflection_conv(\n",
       "            (pad): ReflectionPad2d((1, 1, 1, 1))\n",
       "            (conv): Conv2d(64, 64, kernel_size=(3, 3), stride=(1, 1), bias=False)\n",
       "          )\n",
       "          (1): GroupNorm(1, 64, eps=1e-05, affine=True)\n",
       "          (2): ReLU(inplace=True)\n",
       "        )\n",
       "        (conv2): Sequential(\n",
       "          (0): reflection_conv(\n",
       "            (pad): ReflectionPad2d((1, 1, 1, 1))\n",
       "            (conv): Conv2d(64, 64, kernel_size=(3, 3), stride=(1, 1), bias=False)\n",
       "          )\n",
       "          (1): GroupNorm(1, 64, eps=1e-05, affine=True)\n",
       "          (2): ReLU(inplace=True)\n",
       "        )\n",
       "      )\n",
       "    )\n",
       "    (3): Halve()\n",
       "    (4): Sequential(\n",
       "      (0): Sequential(\n",
       "        (0): reflection_conv(\n",
       "          (pad): ReflectionPad2d((1, 1, 1, 1))\n",
       "          (conv): Conv2d(64, 128, kernel_size=(3, 3), stride=(1, 1), bias=False)\n",
       "        )\n",
       "        (1): GroupNorm(1, 128, eps=1e-05, affine=True)\n",
       "        (2): ReLU(inplace=True)\n",
       "      )\n",
       "      (1): res_block(\n",
       "        (conv1): Sequential(\n",
       "          (0): reflection_conv(\n",
       "            (pad): ReflectionPad2d((1, 1, 1, 1))\n",
       "            (conv): Conv2d(128, 128, kernel_size=(3, 3), stride=(1, 1), bias=False)\n",
       "          )\n",
       "          (1): GroupNorm(1, 128, eps=1e-05, affine=True)\n",
       "          (2): ReLU(inplace=True)\n",
       "        )\n",
       "        (conv2): Sequential(\n",
       "          (0): reflection_conv(\n",
       "            (pad): ReflectionPad2d((1, 1, 1, 1))\n",
       "            (conv): Conv2d(128, 128, kernel_size=(3, 3), stride=(1, 1), bias=False)\n",
       "          )\n",
       "          (1): GroupNorm(1, 128, eps=1e-05, affine=True)\n",
       "          (2): ReLU(inplace=True)\n",
       "        )\n",
       "      )\n",
       "    )\n",
       "    (5): Halve()\n",
       "    (6): Sequential(\n",
       "      (0): Sequential(\n",
       "        (0): reflection_conv(\n",
       "          (pad): ReflectionPad2d((1, 1, 1, 1))\n",
       "          (conv): Conv2d(128, 256, kernel_size=(3, 3), stride=(1, 1), bias=False)\n",
       "        )\n",
       "        (1): GroupNorm(1, 256, eps=1e-05, affine=True)\n",
       "        (2): ReLU(inplace=True)\n",
       "      )\n",
       "      (1): res_block(\n",
       "        (conv1): Sequential(\n",
       "          (0): reflection_conv(\n",
       "            (pad): ReflectionPad2d((1, 1, 1, 1))\n",
       "            (conv): Conv2d(256, 256, kernel_size=(3, 3), stride=(1, 1), bias=False)\n",
       "          )\n",
       "          (1): GroupNorm(1, 256, eps=1e-05, affine=True)\n",
       "          (2): ReLU(inplace=True)\n",
       "        )\n",
       "        (conv2): Sequential(\n",
       "          (0): reflection_conv(\n",
       "            (pad): ReflectionPad2d((1, 1, 1, 1))\n",
       "            (conv): Conv2d(256, 256, kernel_size=(3, 3), stride=(1, 1), bias=False)\n",
       "          )\n",
       "          (1): GroupNorm(1, 256, eps=1e-05, affine=True)\n",
       "          (2): ReLU(inplace=True)\n",
       "        )\n",
       "      )\n",
       "      (2): res_block(\n",
       "        (conv1): Sequential(\n",
       "          (0): reflection_conv(\n",
       "            (pad): ReflectionPad2d((1, 1, 1, 1))\n",
       "            (conv): Conv2d(256, 256, kernel_size=(3, 3), stride=(1, 1), bias=False)\n",
       "          )\n",
       "          (1): GroupNorm(1, 256, eps=1e-05, affine=True)\n",
       "          (2): ReLU(inplace=True)\n",
       "        )\n",
       "        (conv2): Sequential(\n",
       "          (0): reflection_conv(\n",
       "            (pad): ReflectionPad2d((1, 1, 1, 1))\n",
       "            (conv): Conv2d(256, 256, kernel_size=(3, 3), stride=(1, 1), bias=False)\n",
       "          )\n",
       "          (1): GroupNorm(1, 256, eps=1e-05, affine=True)\n",
       "          (2): ReLU(inplace=True)\n",
       "        )\n",
       "      )\n",
       "    )\n",
       "  )\n",
       "  (decoder): Sequential(\n",
       "    (0): Sequential(\n",
       "      (0): res_block(\n",
       "        (conv1): Sequential(\n",
       "          (0): reflection_conv(\n",
       "            (pad): ReflectionPad2d((1, 1, 1, 1))\n",
       "            (conv): Conv2d(256, 256, kernel_size=(3, 3), stride=(1, 1), bias=False)\n",
       "          )\n",
       "          (1): GroupNorm(1, 256, eps=1e-05, affine=True)\n",
       "          (2): ReLU(inplace=True)\n",
       "        )\n",
       "        (conv2): Sequential(\n",
       "          (0): reflection_conv(\n",
       "            (pad): ReflectionPad2d((1, 1, 1, 1))\n",
       "            (conv): Conv2d(256, 256, kernel_size=(3, 3), stride=(1, 1), bias=False)\n",
       "          )\n",
       "          (1): GroupNorm(1, 256, eps=1e-05, affine=True)\n",
       "          (2): ReLU(inplace=True)\n",
       "        )\n",
       "      )\n",
       "      (1): Sequential(\n",
       "        (0): reflection_conv(\n",
       "          (pad): ReflectionPad2d((1, 1, 1, 1))\n",
       "          (conv): Conv2d(256, 128, kernel_size=(3, 3), stride=(1, 1), bias=False)\n",
       "        )\n",
       "        (1): GroupNorm(1, 128, eps=1e-05, affine=True)\n",
       "        (2): ReLU(inplace=True)\n",
       "      )\n",
       "    )\n",
       "    (1): Sequential(\n",
       "      (0): Double()\n",
       "    )\n",
       "    (2): Sequential(\n",
       "      (0): res_block(\n",
       "        (conv1): Sequential(\n",
       "          (0): reflection_conv(\n",
       "            (pad): ReflectionPad2d((1, 1, 1, 1))\n",
       "            (conv): Conv2d(128, 128, kernel_size=(3, 3), stride=(1, 1), bias=False)\n",
       "          )\n",
       "          (1): GroupNorm(1, 128, eps=1e-05, affine=True)\n",
       "          (2): ReLU(inplace=True)\n",
       "        )\n",
       "        (conv2): Sequential(\n",
       "          (0): reflection_conv(\n",
       "            (pad): ReflectionPad2d((1, 1, 1, 1))\n",
       "            (conv): Conv2d(128, 128, kernel_size=(3, 3), stride=(1, 1), bias=False)\n",
       "          )\n",
       "          (1): GroupNorm(1, 128, eps=1e-05, affine=True)\n",
       "          (2): ReLU(inplace=True)\n",
       "        )\n",
       "      )\n",
       "      (1): Sequential(\n",
       "        (0): reflection_conv(\n",
       "          (pad): ReflectionPad2d((1, 1, 1, 1))\n",
       "          (conv): Conv2d(128, 64, kernel_size=(3, 3), stride=(1, 1), bias=False)\n",
       "        )\n",
       "        (1): GroupNorm(1, 64, eps=1e-05, affine=True)\n",
       "        (2): ReLU(inplace=True)\n",
       "      )\n",
       "    )\n",
       "    (3): Sequential(\n",
       "      (0): Double()\n",
       "    )\n",
       "    (4): Sequential(\n",
       "      (0): res_block(\n",
       "        (conv1): Sequential(\n",
       "          (0): reflection_conv(\n",
       "            (pad): ReflectionPad2d((1, 1, 1, 1))\n",
       "            (conv): Conv2d(64, 64, kernel_size=(3, 3), stride=(1, 1), bias=False)\n",
       "          )\n",
       "          (1): GroupNorm(1, 64, eps=1e-05, affine=True)\n",
       "          (2): ReLU(inplace=True)\n",
       "        )\n",
       "        (conv2): Sequential(\n",
       "          (0): reflection_conv(\n",
       "            (pad): ReflectionPad2d((1, 1, 1, 1))\n",
       "            (conv): Conv2d(64, 64, kernel_size=(3, 3), stride=(1, 1), bias=False)\n",
       "          )\n",
       "          (1): GroupNorm(1, 64, eps=1e-05, affine=True)\n",
       "          (2): ReLU(inplace=True)\n",
       "        )\n",
       "      )\n",
       "      (1): Sequential(\n",
       "        (0): reflection_conv(\n",
       "          (pad): ReflectionPad2d((1, 1, 1, 1))\n",
       "          (conv): Conv2d(64, 32, kernel_size=(3, 3), stride=(1, 1), bias=False)\n",
       "        )\n",
       "        (1): GroupNorm(1, 32, eps=1e-05, affine=True)\n",
       "        (2): ReLU(inplace=True)\n",
       "      )\n",
       "    )\n",
       "    (5): Sequential(\n",
       "      (0): Double()\n",
       "    )\n",
       "    (6): Sequential(\n",
       "      (0): res_block(\n",
       "        (conv1): Sequential(\n",
       "          (0): reflection_conv(\n",
       "            (pad): ReflectionPad2d((1, 1, 1, 1))\n",
       "            (conv): Conv2d(32, 32, kernel_size=(3, 3), stride=(1, 1), bias=False)\n",
       "          )\n",
       "          (1): GroupNorm(1, 32, eps=1e-05, affine=True)\n",
       "          (2): ReLU(inplace=True)\n",
       "        )\n",
       "        (conv2): Sequential(\n",
       "          (0): reflection_conv(\n",
       "            (pad): ReflectionPad2d((1, 1, 1, 1))\n",
       "            (conv): Conv2d(32, 32, kernel_size=(3, 3), stride=(1, 1), bias=False)\n",
       "          )\n",
       "          (1): GroupNorm(1, 32, eps=1e-05, affine=True)\n",
       "          (2): ReLU(inplace=True)\n",
       "        )\n",
       "      )\n",
       "      (1): reflection_conv(\n",
       "        (pad): ReflectionPad2d((1, 1, 1, 1))\n",
       "        (conv): Conv2d(32, 3, kernel_size=(3, 3), stride=(1, 1))\n",
       "      )\n",
       "    )\n",
       "  )\n",
       ")"
      ]
     },
     "execution_count": 21,
     "metadata": {},
     "output_type": "execute_result"
    }
   ],
   "source": [
    "model = AutoEncoder(encoder)\n",
    "model = model.cuda()\n",
    "model"
   ]
  },
  {
   "cell_type": "code",
   "execution_count": 22,
   "metadata": {
    "ExecuteTime": {
     "end_time": "2020-03-31T12:29:12.951531Z",
     "start_time": "2020-03-31T12:29:12.949664Z"
    }
   },
   "outputs": [],
   "source": [
    "dir_imgs = Path(dir_cont/f'formatted_{sz}'/'trn'/'imgs')\n",
    "file_trn = dir_cont/'trn.csv'"
   ]
  },
  {
   "cell_type": "code",
   "execution_count": 23,
   "metadata": {
    "ExecuteTime": {
     "end_time": "2020-03-31T12:29:12.955510Z",
     "start_time": "2020-03-31T12:29:12.953317Z"
    }
   },
   "outputs": [],
   "source": [
    "tfms = transforms.Compose([transforms.ToTensor(),\n",
    "                           transforms.Normalize(mean=[0.485, 0.456, 0.406],\n",
    "                                                std=[0.229, 0.224, 0.225])])"
   ]
  },
  {
   "cell_type": "code",
   "execution_count": 24,
   "metadata": {
    "ExecuteTime": {
     "end_time": "2020-03-31T12:29:13.012793Z",
     "start_time": "2020-03-31T12:29:12.956476Z"
    }
   },
   "outputs": [],
   "source": [
    "ds_trn = ImgCSVDataset(dir_imgs, file_trn, tfms=tfms)"
   ]
  },
  {
   "cell_type": "code",
   "execution_count": 25,
   "metadata": {
    "ExecuteTime": {
     "end_time": "2020-03-31T12:29:13.043332Z",
     "start_time": "2020-03-31T12:29:13.013930Z"
    }
   },
   "outputs": [],
   "source": [
    "X,y = ds_trn[0]\n",
    "X,y = X[None], y[None]\n",
    "X,y = X.cuda(), y.cuda()"
   ]
  },
  {
   "cell_type": "code",
   "execution_count": 26,
   "metadata": {
    "ExecuteTime": {
     "end_time": "2020-03-31T12:29:13.184780Z",
     "start_time": "2020-03-31T12:29:13.044324Z"
    }
   },
   "outputs": [
    {
     "data": {
      "text/plain": [
       "<matplotlib.image.AxesImage at 0x7f4324847c88>"
      ]
     },
     "execution_count": 26,
     "metadata": {},
     "output_type": "execute_result"
    },
    {
     "data": {
      "image/png": "[encoded data removed]",
      "text/plain": [
       "<Figure size 432x288 with 1 Axes>"
      ]
     },
     "metadata": {
      "needs_background": "light"
     },
     "output_type": "display_data"
    }
   ],
   "source": [
    "img = torch2np(X[0])\n",
    "plt.imshow(denorm(img))"
   ]
  },
  {
   "cell_type": "code",
   "execution_count": 27,
   "metadata": {
    "ExecuteTime": {
     "end_time": "2020-03-31T12:29:13.196093Z",
     "start_time": "2020-03-31T12:29:13.186111Z"
    }
   },
   "outputs": [],
   "source": [
    "y_hat = model(X)"
   ]
  },
  {
   "cell_type": "code",
   "execution_count": 28,
   "metadata": {
    "ExecuteTime": {
     "end_time": "2020-03-31T12:29:13.238686Z",
     "start_time": "2020-03-31T12:29:13.197259Z"
    }
   },
   "outputs": [
    {
     "data": {
      "text/plain": [
       "(tensor(4515013.5000, device='cuda:0', grad_fn=<AddBackward0>),\n",
       " {'l': 4515013.5,\n",
       "  'ls_s[0]': 1650037.875,\n",
       "  'ls_s[1]': 1407202.25,\n",
       "  'ls_s[2]': 409812.125,\n",
       "  'ls_s[3]': 1891.782958984375,\n",
       "  'ls_c[0]': 1046069.6875})"
      ]
     },
     "execution_count": 28,
     "metadata": {},
     "output_type": "execute_result"
    }
   ],
   "source": [
    "loss(y_hat, y)"
   ]
  },
  {
   "cell_type": "markdown",
   "metadata": {},
   "source": [
    "# Build"
   ]
  },
  {
   "cell_type": "code",
   "execution_count": 29,
   "metadata": {
    "ExecuteTime": {
     "end_time": "2020-03-31T12:29:13.935194Z",
     "start_time": "2020-03-31T12:29:13.239785Z"
    }
   },
   "outputs": [
    {
     "name": "stdout",
     "output_type": "stream",
     "text": [
      "Converted data.ipynb.\n",
      "Converted format_images.ipynb.\n",
      "Converted models.ipynb.\n",
      "Converted stream.ipynb.\n"
     ]
    }
   ],
   "source": [
    "!nbdev_build_lib"
   ]
  }
 ],
 "metadata": {
  "kernelspec": {
   "display_name": "Python 3",
   "language": "python",
   "name": "python3"
  },
  "language_info": {
   "codemirror_mode": {
    "name": "ipython",
    "version": 3
   },
   "file_extension": ".py",
   "mimetype": "text/x-python",
   "name": "python",
   "nbconvert_exporter": "python",
   "pygments_lexer": "ipython3",
   "version": "3.6.9"
  },
  "varInspector": {
   "cols": {
    "lenName": 16,
    "lenType": 16,
    "lenVar": 40
   },
   "kernels_config": {
    "python": {
     "delete_cmd_postfix": "",
     "delete_cmd_prefix": "del ",
     "library": "var_list.py",
     "varRefreshCmd": "print(var_dic_list())"
    },
    "r": {
     "delete_cmd_postfix": ") ",
     "delete_cmd_prefix": "rm(",
     "library": "var_list.r",
     "varRefreshCmd": "cat(var_dic_list()) "
    }
   },
   "position": {
    "height": "716.85px",
    "left": "601px",
    "right": "20px",
    "top": "120px",
    "width": "307px"
   },
   "types_to_exclude": [
    "module",
    "function",
    "builtin_function_or_method",
    "instance",
    "_Feature"
   ],
   "window_display": false
  }
 },
 "nbformat": 4,
 "nbformat_minor": 2
}
