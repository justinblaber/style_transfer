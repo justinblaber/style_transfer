{
 "cells": [
  {
   "cell_type": "markdown",
   "metadata": {},
   "source": [
    "# Import"
   ]
  },
  {
   "cell_type": "code",
   "execution_count": 140,
   "metadata": {
    "ExecuteTime": {
     "end_time": "2020-03-23T03:32:15.830704Z",
     "start_time": "2020-03-23T03:32:15.822366Z"
    }
   },
   "outputs": [],
   "source": [
    "import os\n",
    "import random\n",
    "import shutil\n",
    "from functools import partial\n",
    "from pathlib import Path\n",
    "\n",
    "import pandas as pd\n",
    "import tensorflow as tf\n",
    "import torchvision.transforms.functional as F\n",
    "from joblib import Parallel, delayed\n",
    "from PIL import Image\n",
    "from tqdm.notebook import tqdm"
   ]
  },
  {
   "cell_type": "markdown",
   "metadata": {},
   "source": [
    "# Config"
   ]
  },
  {
   "cell_type": "code",
   "execution_count": 2,
   "metadata": {
    "ExecuteTime": {
     "end_time": "2020-03-22T18:31:51.281751Z",
     "start_time": "2020-03-22T18:31:51.279492Z"
    }
   },
   "outputs": [],
   "source": [
    "dir_data = Path('data')\n",
    "dir_content = dir_data/'content'\n",
    "dir_raw = dir_content/'raw'"
   ]
  },
  {
   "cell_type": "markdown",
   "metadata": {},
   "source": [
    "# Utility"
   ]
  },
  {
   "cell_type": "code",
   "execution_count": 3,
   "metadata": {
    "ExecuteTime": {
     "end_time": "2020-03-22T18:31:51.286773Z",
     "start_time": "2020-03-22T18:31:51.284305Z"
    }
   },
   "outputs": [],
   "source": [
    "def parallel(f, it, n_jobs=6):\n",
    "    Parallel(n_jobs=n_jobs)(delayed(f)(i) for i in tqdm(it));"
   ]
  },
  {
   "cell_type": "markdown",
   "metadata": {
    "ExecuteTime": {
     "end_time": "2020-03-12T03:25:55.554282Z",
     "start_time": "2020-03-12T03:25:55.549531Z"
    }
   },
   "source": [
    "# Clean"
   ]
  },
  {
   "cell_type": "markdown",
   "metadata": {
    "deletable": false,
    "editable": false,
    "run_control": {
     "frozen": true
    }
   },
   "source": [
    "Delete images which are corrupt"
   ]
  },
  {
   "cell_type": "code",
   "execution_count": 5,
   "metadata": {
    "ExecuteTime": {
     "end_time": "2020-03-19T18:26:42.061582Z",
     "start_time": "2020-03-19T18:26:42.059464Z"
    },
    "deletable": false,
    "editable": false,
    "run_control": {
     "frozen": true
    }
   },
   "outputs": [],
   "source": [
    "def _validate_image(file_img):\n",
    "    try:\n",
    "        Image.open(file_img)\n",
    "    except:\n",
    "        print(f'{file_img} is corrupt; removing...')\n",
    "        file_img.unlink()        "
   ]
  },
  {
   "cell_type": "code",
   "execution_count": 6,
   "metadata": {
    "ExecuteTime": {
     "end_time": "2020-03-19T18:27:10.410503Z",
     "start_time": "2020-03-19T18:26:42.854270Z"
    },
    "deletable": false,
    "editable": false,
    "run_control": {
     "frozen": true
    }
   },
   "outputs": [
    {
     "data": {
      "application/vnd.jupyter.widget-view+json": {
       "model_id": "12d512f1e869499da35db7b0fede7d92",
       "version_major": 2,
       "version_minor": 0
      },
      "text/plain": [
       "HBox(children=(FloatProgress(value=0.0, max=123403.0), HTML(value='')))"
      ]
     },
     "metadata": {},
     "output_type": "display_data"
    },
    {
     "name": "stdout",
     "output_type": "stream",
     "text": [
      "\n"
     ]
    }
   ],
   "source": [
    "parallel(_validate_image, dir_raw.rglob('*'))"
   ]
  },
  {
   "cell_type": "markdown",
   "metadata": {},
   "source": [
    "# Make sure all images are rgb on disk"
   ]
  },
  {
   "cell_type": "code",
   "execution_count": 9,
   "metadata": {
    "ExecuteTime": {
     "end_time": "2020-03-22T18:11:41.156520Z",
     "start_time": "2020-03-22T18:11:41.141254Z"
    },
    "deletable": false,
    "editable": false,
    "run_control": {
     "frozen": true
    }
   },
   "outputs": [],
   "source": [
    "def _process_img(f):\n",
    "    if len(np.array(Image.open(f)).shape) == 2:\n",
    "        print(f)\n",
    "        img = Image.open(f)\n",
    "        img_rgb = Image.new('RGB', img.size)\n",
    "        img_rgb.paste(img)\n",
    "        img_rgb.save(f)"
   ]
  },
  {
   "cell_type": "code",
   "execution_count": 10,
   "metadata": {
    "ExecuteTime": {
     "end_time": "2020-03-22T18:14:13.459918Z",
     "start_time": "2020-03-22T18:11:41.323695Z"
    },
    "deletable": false,
    "editable": false,
    "run_control": {
     "frozen": true
    }
   },
   "outputs": [
    {
     "data": {
      "application/vnd.jupyter.widget-view+json": {
       "model_id": "9ca689c329b840d699dcb2cb29105154",
       "version_major": 2,
       "version_minor": 0
      },
      "text/plain": [
       "HBox(children=(FloatProgress(value=1.0, bar_style='info', max=1.0), HTML(value='')))"
      ]
     },
     "metadata": {},
     "output_type": "display_data"
    },
    {
     "name": "stdout",
     "output_type": "stream",
     "text": [
      "\n"
     ]
    }
   ],
   "source": [
    "parallel(_process_img, dir_raw.rglob('*'))"
   ]
  },
  {
   "cell_type": "markdown",
   "metadata": {},
   "source": [
    "# Pre-resize and crop images"
   ]
  },
  {
   "cell_type": "markdown",
   "metadata": {
    "ExecuteTime": {
     "end_time": "2020-03-13T00:51:46.536735Z",
     "start_time": "2020-03-13T00:51:46.532194Z"
    }
   },
   "source": [
    "Resize while maintaining aspect ratio, crop to size, then save in separate folders"
   ]
  },
  {
   "cell_type": "code",
   "execution_count": 13,
   "metadata": {
    "ExecuteTime": {
     "end_time": "2020-03-22T18:43:06.371722Z",
     "start_time": "2020-03-22T18:43:06.368783Z"
    },
    "deletable": false,
    "editable": false,
    "run_control": {
     "frozen": true
    }
   },
   "outputs": [],
   "source": [
    "def _img_pipeline(file_img, sz, dir_imgs_new):\n",
    "    # Get image\n",
    "    img = Image.open(file_img)\n",
    "    img = F.resize(img, sz)\n",
    "    img = F.center_crop(img, sz)\n",
    "    # Save image\n",
    "    dir_imgs_new.mkdir(parents=True, exist_ok=True)\n",
    "    file_img_new = dir_imgs_new/file_img.name\n",
    "    img.save(file_img_new)"
   ]
  },
  {
   "cell_type": "code",
   "execution_count": 14,
   "metadata": {
    "ExecuteTime": {
     "end_time": "2020-03-22T18:43:06.793894Z",
     "start_time": "2020-03-22T18:43:06.790674Z"
    },
    "deletable": false,
    "editable": false,
    "run_control": {
     "frozen": true
    }
   },
   "outputs": [],
   "source": [
    "def _parallel_img_pipeline(dir_imgs, sz):\n",
    "    parallel(partial(_img_pipeline, \n",
    "                     sz=sz,\n",
    "                     dir_imgs_new=dir_content/f'formatted_{sz}'),\n",
    "             dir_imgs.rglob('*'))"
   ]
  },
  {
   "cell_type": "code",
   "execution_count": 15,
   "metadata": {
    "ExecuteTime": {
     "end_time": "2020-03-22T18:46:00.377167Z",
     "start_time": "2020-03-22T18:43:07.466009Z"
    },
    "deletable": false,
    "editable": false,
    "run_control": {
     "frozen": true
    }
   },
   "outputs": [
    {
     "data": {
      "application/vnd.jupyter.widget-view+json": {
       "model_id": "5ec8fbabe6ed4b19bac4f6a6a8621682",
       "version_major": 2,
       "version_minor": 0
      },
      "text/plain": [
       "HBox(children=(FloatProgress(value=1.0, bar_style='info', max=1.0), HTML(value='')))"
      ]
     },
     "metadata": {},
     "output_type": "display_data"
    },
    {
     "name": "stdout",
     "output_type": "stream",
     "text": [
      "\n"
     ]
    }
   ],
   "source": [
    "_parallel_img_pipeline(dir_raw, 96)"
   ]
  },
  {
   "cell_type": "code",
   "execution_count": 16,
   "metadata": {
    "ExecuteTime": {
     "end_time": "2020-03-22T18:49:54.533569Z",
     "start_time": "2020-03-22T18:46:00.398856Z"
    },
    "deletable": false,
    "editable": false,
    "run_control": {
     "frozen": true
    }
   },
   "outputs": [
    {
     "data": {
      "application/vnd.jupyter.widget-view+json": {
       "model_id": "33bed4dc8d6c47699f2e4df9fb482133",
       "version_major": 2,
       "version_minor": 0
      },
      "text/plain": [
       "HBox(children=(FloatProgress(value=1.0, bar_style='info', max=1.0), HTML(value='')))"
      ]
     },
     "metadata": {},
     "output_type": "display_data"
    },
    {
     "name": "stdout",
     "output_type": "stream",
     "text": [
      "\n"
     ]
    }
   ],
   "source": [
    "_parallel_img_pipeline(dir_raw, 256)"
   ]
  },
  {
   "cell_type": "markdown",
   "metadata": {},
   "source": [
    "# Create trn/val split"
   ]
  },
  {
   "cell_type": "code",
   "execution_count": 29,
   "metadata": {
    "ExecuteTime": {
     "end_time": "2020-03-22T19:07:48.744114Z",
     "start_time": "2020-03-22T19:07:47.713115Z"
    },
    "deletable": false,
    "editable": false,
    "run_control": {
     "frozen": true
    }
   },
   "outputs": [],
   "source": [
    "files_img = [f.name for f in dir_raw.rglob('*')]\n",
    "random.shuffle(files_img)\n",
    "idx_split = int(0.975*(len(files_img)-1))\n",
    "files_trn, files_val = files_img[:idx_split], files_img[idx_split:]\n",
    "df_trn, df_val = pd.DataFrame({'name': files_trn}), pd.DataFrame({'name': files_val})\n",
    "file_csv_trn, file_csv_val = dir_content/'trn.csv', dir_content/'val.csv'\n",
    "df_trn.to_csv(file_csv_trn, index=False)\n",
    "df_val.to_csv(file_csv_val, index=False)"
   ]
  },
  {
   "cell_type": "markdown",
   "metadata": {},
   "source": [
    "# Put images in a format that dali's FileReader can use"
   ]
  },
  {
   "cell_type": "markdown",
   "metadata": {},
   "source": [
    "This requires the image folder to be the label name, since no labels are used I'll just make a dummy folder"
   ]
  },
  {
   "cell_type": "code",
   "execution_count": 34,
   "metadata": {
    "ExecuteTime": {
     "end_time": "2020-03-22T19:11:57.768084Z",
     "start_time": "2020-03-22T19:11:57.757834Z"
    },
    "deletable": false,
    "editable": false,
    "run_control": {
     "frozen": true
    }
   },
   "outputs": [],
   "source": [
    "def _format_pipeline(dir_imgs, t):\n",
    "    dir_imgs_new = (dir_imgs/t/'imgs')\n",
    "    dir_imgs_new.mkdir(parents=True, exist_ok=True)\n",
    "    df = pd.read_csv(dir_imgs.parent/f'{t}.csv')\n",
    "    for n in df.name:\n",
    "        shutil.move((dir_imgs/n).as_posix(), dir_imgs_new)"
   ]
  },
  {
   "cell_type": "code",
   "execution_count": 35,
   "metadata": {
    "ExecuteTime": {
     "end_time": "2020-03-22T19:12:05.198655Z",
     "start_time": "2020-03-22T19:11:58.100157Z"
    },
    "deletable": false,
    "editable": false,
    "run_control": {
     "frozen": true
    }
   },
   "outputs": [],
   "source": [
    "_format_pipeline(dir_content/'formatted_96', 'trn')\n",
    "_format_pipeline(dir_content/'formatted_96', 'val')"
   ]
  },
  {
   "cell_type": "code",
   "execution_count": 36,
   "metadata": {
    "ExecuteTime": {
     "end_time": "2020-03-22T19:12:47.136905Z",
     "start_time": "2020-03-22T19:12:40.179273Z"
    },
    "deletable": false,
    "editable": false,
    "run_control": {
     "frozen": true
    }
   },
   "outputs": [],
   "source": [
    "_format_pipeline(dir_content/'formatted_256', 'trn')\n",
    "_format_pipeline(dir_content/'formatted_256', 'val')"
   ]
  },
  {
   "cell_type": "markdown",
   "metadata": {},
   "source": [
    "# Create tfrecords for dali as well"
   ]
  },
  {
   "cell_type": "code",
   "execution_count": 123,
   "metadata": {
    "ExecuteTime": {
     "end_time": "2020-03-23T02:42:32.443582Z",
     "start_time": "2020-03-23T02:42:32.439635Z"
    },
    "deletable": false,
    "editable": false,
    "run_control": {
     "frozen": true
    }
   },
   "outputs": [],
   "source": [
    "def _bytes_feature(value):\n",
    "    return tf.train.Feature(bytes_list=tf.train.BytesList(value=[value]))"
   ]
  },
  {
   "cell_type": "code",
   "execution_count": 143,
   "metadata": {
    "ExecuteTime": {
     "end_time": "2020-03-23T03:34:34.655388Z",
     "start_time": "2020-03-23T03:34:34.642117Z"
    },
    "deletable": false,
    "editable": false,
    "run_control": {
     "frozen": true
    }
   },
   "outputs": [],
   "source": [
    "def imgs2tfrecord(files_img, file_tfrecord):\n",
    "    with tf.io.TFRecordWriter(file_tfrecord.as_posix()) as writer:\n",
    "        for file_img in files_img:\n",
    "            bytes_img = open(file_img, 'rb').read()\n",
    "            example = tf.train.Example(features=tf.train.Features(feature={\n",
    "                'encoded': _bytes_feature(bytes_img)\n",
    "            }))\n",
    "            writer.write(example.SerializeToString())\n",
    "    os.system(f'tfrecord2idx {file_tfrecord} {file_tfrecord.parent/(file_tfrecord.stem + \".idx\")}')"
   ]
  },
  {
   "cell_type": "code",
   "execution_count": 144,
   "metadata": {
    "ExecuteTime": {
     "end_time": "2020-03-23T03:34:35.451033Z",
     "start_time": "2020-03-23T03:34:35.444114Z"
    },
    "deletable": false,
    "editable": false,
    "run_control": {
     "frozen": true
    }
   },
   "outputs": [],
   "source": [
    "def _imgs2tfrecord_pipeline(dir_imgs, t):\n",
    "    imgs2tfrecord((dir_imgs/t/'imgs').rglob('*'), dir_imgs/f'{t}.tfrecord')"
   ]
  },
  {
   "cell_type": "code",
   "execution_count": 145,
   "metadata": {
    "ExecuteTime": {
     "end_time": "2020-03-23T03:35:31.893259Z",
     "start_time": "2020-03-23T03:34:36.453971Z"
    },
    "deletable": false,
    "editable": false,
    "run_control": {
     "frozen": true
    }
   },
   "outputs": [],
   "source": [
    "_imgs2tfrecord_pipeline(dir_content/'formatted_96', 'trn')\n",
    "_imgs2tfrecord_pipeline(dir_content/'formatted_96', 'val')"
   ]
  },
  {
   "cell_type": "code",
   "execution_count": 146,
   "metadata": {
    "ExecuteTime": {
     "end_time": "2020-03-23T03:36:56.930364Z",
     "start_time": "2020-03-23T03:35:32.060480Z"
    },
    "deletable": false,
    "editable": false,
    "run_control": {
     "frozen": true
    }
   },
   "outputs": [],
   "source": [
    "_imgs2tfrecord_pipeline(dir_content/'formatted_256', 'trn')\n",
    "_imgs2tfrecord_pipeline(dir_content/'formatted_256', 'val')"
   ]
  }
 ],
 "metadata": {
  "kernelspec": {
   "display_name": "Python 3",
   "language": "python",
   "name": "python3"
  },
  "language_info": {
   "codemirror_mode": {
    "name": "ipython",
    "version": 3
   },
   "file_extension": ".py",
   "mimetype": "text/x-python",
   "name": "python",
   "nbconvert_exporter": "python",
   "pygments_lexer": "ipython3",
   "version": "3.6.9"
  },
  "varInspector": {
   "cols": {
    "lenName": 16,
    "lenType": 16,
    "lenVar": 40
   },
   "kernels_config": {
    "python": {
     "delete_cmd_postfix": "",
     "delete_cmd_prefix": "del ",
     "library": "var_list.py",
     "varRefreshCmd": "print(var_dic_list())"
    },
    "r": {
     "delete_cmd_postfix": ") ",
     "delete_cmd_prefix": "rm(",
     "library": "var_list.r",
     "varRefreshCmd": "cat(var_dic_list()) "
    }
   },
   "types_to_exclude": [
    "module",
    "function",
    "builtin_function_or_method",
    "instance",
    "_Feature"
   ],
   "window_display": false
  }
 },
 "nbformat": 4,
 "nbformat_minor": 2
}
